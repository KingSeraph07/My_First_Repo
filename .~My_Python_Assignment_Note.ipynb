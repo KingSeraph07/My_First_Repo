{
 "cells": [
  {
   "cell_type": "code",
   "execution_count": null,
   "id": "392791cf",
   "metadata": {},
   "outputs": [],
   "source": []
  },
  {
   "cell_type": "code",
   "execution_count": null,
   "id": "c5cb4687",
   "metadata": {},
   "outputs": [],
   "source": [
    "\"\"\"D = (b**2) - 4ac\n",
    "\n",
    "if D>0: real but different roots\n",
    "if D=0: real and equal roots\n",
    "if D<0: imaginary root\n",
    "\n",
    "\"\"\""
   ]
  },
  {
   "cell_type": "code",
   "execution_count": null,
   "id": "66723946",
   "metadata": {},
   "outputs": [],
   "source": [
    "a = float(input(\"Enter the value of a: \"))\n",
    "b = float(input(\"Enter the value of b: \"))\n",
    "c = float(input(\"Enter the value of c: \"))\n",
    "\n",
    "\n",
    "D = (b**2) - (4*a*c)\n",
    "\n",
    "if D>0:\n",
    "    print(\"Real but different roots\")\n",
    "elif D==0:\n",
    "    print(\"Real and equal roots\")\n",
    "else:\n",
    "    print(\"Imaginary roots\")"
   ]
  },
  {
   "cell_type": "code",
   "execution_count": null,
   "id": "fc289aae",
   "metadata": {},
   "outputs": [],
   "source": []
  },
  {
   "cell_type": "code",
   "execution_count": null,
   "id": "ec8c4bde",
   "metadata": {},
   "outputs": [],
   "source": []
  },
  {
   "cell_type": "code",
   "execution_count": null,
   "id": "553ea7db",
   "metadata": {},
   "outputs": [],
   "source": [
    "Age=int(input(\"Enter your Age: \"))\n",
    "\n",
    "\n",
    "if Age<0:\n",
    "    print(\"Invalid Age\")\n",
    "elif Age<=7:\n",
    "    print(\"Child ticket: 10$\")\n",
    "elif Age>=8 and Age<=17:\n",
    "    print(\"Teenager ticket: 15$\")\n",
    "else:\n",
    "    Salary=float(input(\"Enter your Salary: \"))\n",
    "    \n",
    "    if Salary<0:\n",
    "        print(\"Invalid Salary\")\n",
    "    elif Salary<=1000:\n",
    "        print(\"Reduced adult ticket 1: 20$\")\n",
    "    elif Salary>=1001 and Salary<=2000:\n",
    "        print(\"Reduced adult ticket 2: 25$\")\n",
    "    else:\n",
    "        print(\"Adult ticket: 30$\")\n",
    "    \n"
   ]
  },
  {
   "cell_type": "code",
   "execution_count": null,
   "id": "7aa79798",
   "metadata": {},
   "outputs": [],
   "source": []
  },
  {
   "cell_type": "code",
   "execution_count": null,
   "id": "f97023d8",
   "metadata": {},
   "outputs": [],
   "source": []
  },
  {
   "cell_type": "code",
   "execution_count": null,
   "id": "63973910",
   "metadata": {},
   "outputs": [],
   "source": []
  },
  {
   "cell_type": "code",
   "execution_count": null,
   "id": "07e1090e",
   "metadata": {},
   "outputs": [],
   "source": [
    "string=input(\"Enter text: \")\n",
    "Text=sum(map(str.isupper,string))\n",
    "if Text>1:\n",
    "    print(\"The input has\", Text, \"uppercase letters.\")\n",
    "else:\n",
    "    print(\"The input has\", Text, \"uppercase letter.\")"
   ]
  },
  {
   "cell_type": "code",
   "execution_count": null,
   "id": "7fb58019",
   "metadata": {},
   "outputs": [],
   "source": []
  },
  {
   "cell_type": "code",
   "execution_count": null,
   "id": "7fd7753e",
   "metadata": {},
   "outputs": [],
   "source": [
    "Number_to_guess=(input(\"Enter Number_to_guess: \")\n",
    "Number=input(\"Enter Number: \").lower()\n",
    "\n",
    "if Number<Number_to_guess:\n",
    "    print(\"Your number is smaller\")\n",
    "elif Number==Number_to_guess:\n",
    "    print(\"Congratulations!\")\n",
    "elif Number==\"exit\":\n",
    "    print(\"You lost!\")\n",
    "else:\n",
    "    print(\"Your number is bigger\")\n",
    "    "
   ]
  },
  {
   "cell_type": "code",
   "execution_count": null,
   "id": "2a7cf0ed",
   "metadata": {},
   "outputs": [],
   "source": []
  },
  {
   "cell_type": "code",
   "execution_count": null,
   "id": "21456ccd",
   "metadata": {},
   "outputs": [],
   "source": [
    "Text = input(\"Enter Text: \")\n",
    "Text = sum(map(str.isupper,Text))\n",
    "print(Text)\n"
   ]
  },
  {
   "cell_type": "code",
   "execution_count": null,
   "id": "20dafaa0",
   "metadata": {},
   "outputs": [],
   "source": []
  },
  {
   "cell_type": "code",
   "execution_count": null,
   "id": "4ff15974",
   "metadata": {},
   "outputs": [],
   "source": [
    "start = int(input(\"Enter a start value: \"))\n",
    "stop = int(input(\"Enter a stop value: \"))\n",
    "step = int(input(\"Enter a step value: \"))\n",
    "\n",
    "list1 = list(range(start,stop+1))\n",
    "list2 = (list1[:stop+1:step])\n",
    "\n",
    "Second_value = list2[1]\n",
    "Last_value = list2[-1] \n",
    "\n",
    "odd_counter = 0\n",
    "even_sum = 0\n",
    "\n",
    "for x in list2:\n",
    "    if x%2==1:\n",
    "        odd_counter+=1\n",
    "    else:\n",
    "        even_sum+=x\n",
    "\n",
    "\n",
    "print(\"The Second_value in the range =\", Second_value)\n",
    "print(\"The last value in the range = \", Last_value)\n",
    "print(\"Odd_counter = \", odd_counter)\n",
    "print(\"Even_sum = \", even_sum)\n"
   ]
  },
  {
   "cell_type": "code",
   "execution_count": null,
   "id": "d23b56a2",
   "metadata": {},
   "outputs": [],
   "source": []
  },
  {
   "cell_type": "code",
   "execution_count": null,
   "id": "beb481a0",
   "metadata": {},
   "outputs": [],
   "source": [
    "\"\"\"\n",
    "Collect a value(integer) from the user, extract all the odd numbers between 1 and the value collected from the user(may be inclusive or exclusive)\n",
    "Get the square root of each of the odd numbers\n",
    "Give the list of the squareroots obtained\n",
    "\"\"\""
   ]
  },
  {
   "cell_type": "code",
   "execution_count": null,
   "id": "d02d2376",
   "metadata": {},
   "outputs": [],
   "source": [
    "num = int(input(\"Enter a value: \"))\n",
    "\n",
    "mylist = []\n",
    "\n",
    "for x in range(1,num):\n",
    "    if x%2==1:\n",
    "        import math\n",
    "        x = math.sqrt(x)\n",
    "        mylist.append(x)\n",
    "print(mylist)"
   ]
  },
  {
   "cell_type": "code",
   "execution_count": null,
   "id": "900f72b8",
   "metadata": {},
   "outputs": [],
   "source": []
  },
  {
   "cell_type": "code",
   "execution_count": null,
   "id": "07df3cf0",
   "metadata": {},
   "outputs": [],
   "source": [
    "\"\"\"\n",
    "Write a code to extract all the numbers that are divisible by 5 from 1 to 100 and store them in a list.\n",
    "\"\"\"\n",
    "\n",
    "list1 = []\n",
    "\n",
    "for x in range(1,101):\n",
    "    if x%5==0:\n",
    "        list1.append(x)\n",
    "print(list1)        "
   ]
  },
  {
   "cell_type": "code",
   "execution_count": null,
   "id": "708e97b0",
   "metadata": {},
   "outputs": [],
   "source": []
  },
  {
   "cell_type": "code",
   "execution_count": null,
   "id": "d92683da",
   "metadata": {},
   "outputs": [],
   "source": [
    "word = input(\"enter anything: \").lower()\n",
    "\n",
    "list1 = [\"a\",\"e\",\"i\",\"o\",\"u\"]\n",
    "\n",
    "myvowels = 0\n",
    "\n",
    "for x in word:\n",
    "    if x in list1:\n",
    "        myvowels+=1\n",
    "print(\"The number of vowels in\", word, \"is\", myvowels)"
   ]
  },
  {
   "cell_type": "code",
   "execution_count": null,
   "id": "c242d999",
   "metadata": {},
   "outputs": [],
   "source": []
  },
  {
   "cell_type": "code",
   "execution_count": null,
   "id": "0556c6eb",
   "metadata": {},
   "outputs": [],
   "source": []
  },
  {
   "cell_type": "code",
   "execution_count": null,
   "id": "8511aec8",
   "metadata": {},
   "outputs": [],
   "source": [
    "\"\"\"\n",
    "Write a code to extract all vowels in a word, put them in a list without repeating any of the vowels\n",
    "\"\"\"\n",
    "\n",
    "# myword = input(\"Enter a text: \").lower()\n",
    "\n",
    "# list1 = [\"a\",\"e\",\"i\",\"o\",\"u\"]\n",
    "\n",
    "# word1 = [\"a\"]\n",
    "# word2 = [\"e\"]\n",
    "# word3 = [\"i\"]\n",
    "# word4 = [\"o\"]\n",
    "# word5 = [\"u\"]\n",
    "\n",
    "# myvowels = []\n",
    "\n",
    "# for x in myword:\n",
    "#     if x is word1:\n",
    "#         myvowels.extend(x)\n",
    "#     elif x == word:\n",
    "#         myvowels.append(x)\n",
    "# print(myvowels)\n",
    "\n",
    "\n",
    "myword = input(\"Enter a text: \").lower()\n",
    "\n",
    "list1 = [\"a\",\"e\",\"i\",\"o\",\"u\"]\n",
    "\n",
    "myvowels = []\n",
    "\n",
    "for x in myword:\n",
    "    if x in list1:\n",
    "        myvowels.append(x)\n",
    "        \n",
    "myvowels = list(set(myvowels))\n",
    "\n",
    "# myvowels = list[myvowels]\n",
    "\n",
    "print(myvowels)"
   ]
  },
  {
   "cell_type": "code",
   "execution_count": null,
   "id": "a5449573",
   "metadata": {},
   "outputs": [],
   "source": [
    "TEXT = input(\"Enter a text: \").lower()\n",
    "print(TEXT)"
   ]
  },
  {
   "cell_type": "code",
   "execution_count": null,
   "id": "4cd779dd",
   "metadata": {},
   "outputs": [],
   "source": []
  },
  {
   "cell_type": "code",
   "execution_count": null,
   "id": "ca3ef3a9",
   "metadata": {},
   "outputs": [],
   "source": [
    "for i in range(4):\n",
    "    for j in range(4-i):\n",
    "        print(\"#\", end=\" \")\n",
    "    print()"
   ]
  },
  {
   "cell_type": "code",
   "execution_count": null,
   "id": "f1403d0f",
   "metadata": {},
   "outputs": [],
   "source": []
  },
  {
   "cell_type": "code",
   "execution_count": null,
   "id": "7afeead3",
   "metadata": {},
   "outputs": [],
   "source": []
  },
  {
   "cell_type": "code",
   "execution_count": null,
   "id": "0a648a6b",
   "metadata": {},
   "outputs": [],
   "source": [
    "#Exercise 1\n",
    "\n",
    "for x in range(5):\n",
    "    for y in range(4):\n",
    "        if(x==0 or x==1 or x==3 or x==4) and (y==1 or y==2):\n",
    "            print(\" \", end=\" \")\n",
    "        else:\n",
    "            print(\"#\", end=\" \")\n",
    "    print()\n",
    "        "
   ]
  },
  {
   "cell_type": "code",
   "execution_count": null,
   "id": "0096e5c2",
   "metadata": {},
   "outputs": [],
   "source": []
  },
  {
   "cell_type": "code",
   "execution_count": null,
   "id": "a3b67aa9",
   "metadata": {},
   "outputs": [],
   "source": [
    "#Exercise 2\n",
    "\n",
    "for x in range(5):\n",
    "    for y in range(4):\n",
    "        if ((x==0 or x==4) and (y==1 or y==2)) or ((x==1 or x==3) and (y==1 or y==3)) or ((x==2) and (y==2 or y==3)):\n",
    "            print(\" \", end=\" \")\n",
    "        else:\n",
    "            print(\"#\", end=\" \")\n",
    "    print()"
   ]
  },
  {
   "cell_type": "code",
   "execution_count": null,
   "id": "ee9bc9aa",
   "metadata": {},
   "outputs": [],
   "source": []
  },
  {
   "cell_type": "code",
   "execution_count": null,
   "id": "e445ff17",
   "metadata": {},
   "outputs": [],
   "source": []
  },
  {
   "cell_type": "code",
   "execution_count": null,
   "id": "d5bc4713",
   "metadata": {},
   "outputs": [],
   "source": [
    "#Exercise 3\n",
    "\n",
    "list1 = [\"python\",\"java\",\"kotlin\",\"swift\",\"C\",\"C++\",\"javascript\",\"PHP\",\"Ruby\",\"R\",\"Go\"]\n",
    "\n",
    "list2=[\"java\",\"swift\",\"C++\",\"PHP\",\"R\"]\n",
    "for x in list1:\n",
    "    if x in list2:\n",
    "        print(x)\n"
   ]
  },
  {
   "cell_type": "code",
   "execution_count": null,
   "id": "bb20ed59",
   "metadata": {},
   "outputs": [],
   "source": []
  },
  {
   "cell_type": "code",
   "execution_count": null,
   "id": "16294f72",
   "metadata": {},
   "outputs": [],
   "source": [
    "#Exercise 4\n",
    "\n",
    "mlist1=[\"apple\",\"banana\",\"orange\",\"apple\",\"banana\",\"pawpaw\",\"colanut\",\"pawpaw\",\"apple\"]\n",
    "mlist2=[]\n",
    "\n",
    "for x in mlist1:\n",
    "    if mlist1.count(x)>1:\n",
    "        mlist2.append(x)\n",
    "print(list(set(mlist2)))"
   ]
  },
  {
   "cell_type": "code",
   "execution_count": null,
   "id": "ed5126f9",
   "metadata": {},
   "outputs": [],
   "source": [
    "mlist1=[\"apple\",\"banana\",\"orange\",\"apple\",\"banana\",\"pawpaw\",\"colanut\",\"pawpaw\",\"apple\"]\n",
    "mlist2=[]\n",
    "\n",
    "for x in mlist1:\n",
    "    if mlist1.count(x)>1 and x not in mlist2:\n",
    "        mlist2.append(x)\n",
    "print(mlist2)"
   ]
  },
  {
   "cell_type": "code",
   "execution_count": null,
   "id": "b70fe663",
   "metadata": {},
   "outputs": [],
   "source": []
  },
  {
   "cell_type": "code",
   "execution_count": null,
   "id": "69812c1c",
   "metadata": {},
   "outputs": [],
   "source": [
    "#Exercise 5\n",
    "\n",
    "mlist1=[\"apple\",\"banana\",\"orange\",\"apple\",\"banana\",\"pawpaw\",\"colanut\",\"pawpaw\",\"apple\"]\n",
    "\n",
    "keys = []\n",
    "values = 0\n",
    "\n",
    "for x in mlist1:\n",
    "    if x in mlist1 and x not in keys:\n",
    "        keys.append(x)\n",
    "        if x in mlist1.count(x)>1:\n",
    "            values+=1\n",
    "            print(keys, \":\", values)       \n",
    "\n"
   ]
  },
  {
   "cell_type": "code",
   "execution_count": null,
   "id": "6de23f17",
   "metadata": {},
   "outputs": [],
   "source": []
  },
  {
   "cell_type": "code",
   "execution_count": 10,
   "id": "c2b0bca2",
   "metadata": {},
   "outputs": [],
   "source": [
    "list2 = [\"python\",\"javascript\",\"java\",\"swift\",\"kotlin\",\"laravel\",\"Ruby\",\"C++\"]\n",
    "\n",
    "list3 = [\"python\",\"javascript\",\"kotlin\",\"laravel\"]\n",
    "\n",
    "while x in list2:\n",
    "    while y in list3:\n",
    "        print(x)\n",
    "    "
   ]
  },
  {
   "cell_type": "code",
   "execution_count": 1,
   "id": "9e97336e",
   "metadata": {},
   "outputs": [
    {
     "name": "stdout",
     "output_type": "stream",
     "text": [
      "4\n"
     ]
    }
   ],
   "source": [
    "x=2*2\n",
    "print(x)\n"
   ]
  },
  {
   "cell_type": "code",
   "execution_count": null,
   "id": "48aa1743",
   "metadata": {},
   "outputs": [],
   "source": []
  },
  {
   "cell_type": "code",
   "execution_count": null,
   "id": "11689215",
   "metadata": {},
   "outputs": [],
   "source": []
  },
  {
   "cell_type": "code",
   "execution_count": null,
   "id": "c84f8db9",
   "metadata": {},
   "outputs": [],
   "source": []
  },
  {
   "cell_type": "code",
   "execution_count": null,
   "id": "64047fe5",
   "metadata": {},
   "outputs": [],
   "source": []
  }
 ],
 "metadata": {
  "kernelspec": {
   "display_name": "Python 3 (ipykernel)",
   "language": "python",
   "name": "python3"
  },
  "language_info": {
   "codemirror_mode": {
    "name": "ipython",
    "version": 3
   },
   "file_extension": ".py",
   "mimetype": "text/x-python",
   "name": "python",
   "nbconvert_exporter": "python",
   "pygments_lexer": "ipython3",
   "version": "3.9.13"
  }
 },
 "nbformat": 4,
 "nbformat_minor": 5
}
